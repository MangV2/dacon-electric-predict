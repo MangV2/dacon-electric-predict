{
  "cells": [
    {
      "cell_type": "code",
      "execution_count": 1,
      "metadata": {},
      "outputs": [
        {
          "name": "stdout",
          "output_type": "stream",
          "text": [
            "^C\n",
            "Note: you may need to restart the kernel to use updated packages.\n"
          ]
        }
      ],
      "source": [
        "# 필요한 라이브러리 설치\n",
        "%pip install autogluon pandas numpy matplotlib seaborn scikit-learn\n"
      ]
    },
    {
      "cell_type": "code",
      "execution_count": 3,
      "metadata": {},
      "outputs": [],
      "source": [
        "# 라이브러리 import\n",
        "import pandas as pd\n",
        "import numpy as np\n",
        "import matplotlib.pyplot as plt\n",
        "import seaborn as sns\n",
        "from datetime import datetime\n",
        "import warnings\n",
        "warnings.filterwarnings('ignore')\n",
        "\n",
        "# AutoGluon import\n",
        "from autogluon.tabular import TabularDataset, TabularPredictor\n",
        "\n",
        "# 한글 폰트 설정\n",
        "plt.rcParams['font.family'] = 'DejaVu Sans'\n",
        "plt.rcParams['axes.unicode_minus'] = False\n"
      ]
    },
    {
      "cell_type": "raw",
      "metadata": {
        "vscode": {
          "languageId": "raw"
        }
      },
      "source": [
        "## 1. 데이터 로드 및 기본 탐색\n"
      ]
    },
    {
      "cell_type": "code",
      "execution_count": 30,
      "metadata": {},
      "outputs": [
        {
          "name": "stdout",
          "output_type": "stream",
          "text": [
            "Train 데이터 크기: (204000, 10)\n",
            "Test 데이터 크기: (16800, 7)\n",
            "Building info 크기: (100, 7)\n",
            "Sample submission 크기: (16800, 2)\n"
          ]
        }
      ],
      "source": [
        "# 데이터 로드\n",
        "train_df = pd.read_csv('data/train.csv')\n",
        "test_df = pd.read_csv('data/test.csv')\n",
        "building_info = pd.read_csv('data/building_info.csv')\n",
        "sample_submission = pd.read_csv('data/sample_submission.csv')\n",
        "\n",
        "print(\"Train 데이터 크기:\", train_df.shape)\n",
        "print(\"Test 데이터 크기:\", test_df.shape)\n",
        "print(\"Building info 크기:\", building_info.shape)\n",
        "print(\"Sample submission 크기:\", sample_submission.shape)\n"
      ]
    },
    {
      "cell_type": "code",
      "execution_count": 31,
      "metadata": {},
      "outputs": [
        {
          "name": "stdout",
          "output_type": "stream",
          "text": [
            "=== Train 데이터 ===\n",
            "\n",
            "<class 'pandas.core.frame.DataFrame'>\n",
            "RangeIndex: 204000 entries, 0 to 203999\n",
            "Data columns (total 10 columns):\n",
            " #   Column         Non-Null Count   Dtype  \n",
            "---  ------         --------------   -----  \n",
            " 0   num_date_time  204000 non-null  object \n",
            " 1   건물번호           204000 non-null  int64  \n",
            " 2   일시             204000 non-null  object \n",
            " 3   기온(°C)         204000 non-null  float64\n",
            " 4   강수량(mm)        204000 non-null  float64\n",
            " 5   풍속(m/s)        204000 non-null  float64\n",
            " 6   습도(%)          204000 non-null  float64\n",
            " 7   일조(hr)         204000 non-null  float64\n",
            " 8   일사(MJ/m2)      204000 non-null  float64\n",
            " 9   전력소비량(kWh)     204000 non-null  float64\n",
            "dtypes: float64(7), int64(1), object(2)\n",
            "memory usage: 15.6+ MB\n",
            "None\n",
            "\n",
            "=== Train 데이터 샘플 ===\n",
            "\n",
            "   num_date_time  건물번호           일시  기온(°C)  강수량(mm)  풍속(m/s)  습도(%)  일조(hr)  \\\n",
            "0  1_20240601 00     1  20240601 00    18.3      0.0      2.6   82.0     0.0   \n",
            "1  1_20240601 01     1  20240601 01    18.3      0.0      2.7   82.0     0.0   \n",
            "2  1_20240601 02     1  20240601 02    18.1      0.0      2.6   80.0     0.0   \n",
            "3  1_20240601 03     1  20240601 03    18.0      0.0      2.6   81.0     0.0   \n",
            "4  1_20240601 04     1  20240601 04    17.8      0.0      1.3   81.0     0.0   \n",
            "\n",
            "   일사(MJ/m2)  전력소비량(kWh)  \n",
            "0        0.0     5794.80  \n",
            "1        0.0     5591.85  \n",
            "2        0.0     5338.17  \n",
            "3        0.0     4554.42  \n",
            "4        0.0     3602.25  \n",
            "\n",
            "=== Building info ===\n",
            "\n",
            "<class 'pandas.core.frame.DataFrame'>\n",
            "RangeIndex: 100 entries, 0 to 99\n",
            "Data columns (total 7 columns):\n",
            " #   Column        Non-Null Count  Dtype  \n",
            "---  ------        --------------  -----  \n",
            " 0   건물번호          100 non-null    int64  \n",
            " 1   건물유형          100 non-null    object \n",
            " 2   연면적(m2)       100 non-null    float64\n",
            " 3   냉방면적(m2)      100 non-null    float64\n",
            " 4   태양광용량(kW)     100 non-null    object \n",
            " 5   ESS저장용량(kWh)  100 non-null    object \n",
            " 6   PCS용량(kW)     100 non-null    object \n",
            "dtypes: float64(2), int64(1), object(4)\n",
            "memory usage: 5.6+ KB\n",
            "None\n",
            "\n",
            "=== Building info 샘플 ===\n",
            "\n",
            "   건물번호 건물유형    연면적(m2)   냉방면적(m2) 태양광용량(kW) ESS저장용량(kWh) PCS용량(kW)\n",
            "0     1   호텔   82912.71   77586.00         -            -         -\n",
            "1     2   상용   40658.90   30392.82         -            -         -\n",
            "2     3   병원  560431.00  418992.00    278.58            -         -\n",
            "3     4   호텔   41813.29   23715.71         -            -         -\n",
            "4     5   학교  403749.39  248507.00   1983.05         1025       250\n"
          ]
        }
      ],
      "source": [
        "# 데이터 기본 정보 확인\n",
        "print(\"=== Train 데이터 ===\\n\")\n",
        "print(train_df.info())\n",
        "print(\"\\n=== Train 데이터 샘플 ===\\n\")\n",
        "print(train_df.head())\n",
        "\n",
        "print(\"\\n=== Building info ===\\n\")\n",
        "print(building_info.info())\n",
        "print(\"\\n=== Building info 샘플 ===\\n\")\n",
        "print(building_info.head())\n"
      ]
    },
    {
      "cell_type": "raw",
      "metadata": {
        "vscode": {
          "languageId": "raw"
        }
      },
      "source": [
        "## 2. Feature Engineering\n"
      ]
    },
    {
      "cell_type": "code",
      "execution_count": 32,
      "metadata": {},
      "outputs": [
        {
          "name": "stdout",
          "output_type": "stream",
          "text": [
            "처리된 train 데이터 크기: (204000, 25)\n",
            "처리된 test 데이터 크기: (16800, 24)\n"
          ]
        }
      ],
      "source": [
        "def create_features(df, building_info):\n",
        "    \"\"\"\n",
        "    Feature Engineering 함수 - 간단하고 효과적인 피처 생성\n",
        "    \"\"\"\n",
        "    # 데이터 복사\n",
        "    df = df.copy()\n",
        "    \n",
        "    # 건물 정보에서 불필요한 컬럼 제거\n",
        "    building_info_processed = building_info.copy()\n",
        "    \n",
        "    # 사용하지 않을 컬럼들 제거\n",
        "    drop_columns = ['태양광용량(kW)', 'ESS저장용량(kWh)', 'PCS용량(kW)']\n",
        "    for col in drop_columns:\n",
        "        if col in building_info_processed.columns:\n",
        "            building_info_processed = building_info_processed.drop(col, axis=1)\n",
        "    \n",
        "    # 건물 정보 병합\n",
        "    df = df.merge(building_info_processed, on='건물번호', how='left')\n",
        "    \n",
        "    # 원본 데이터에서 불필요한 컬럼 제거\n",
        "    drop_original_columns = ['일조(hr)', '일사(MJ/m2)']\n",
        "    for col in drop_original_columns:\n",
        "        if col in df.columns:\n",
        "            df = df.drop(col, axis=1)\n",
        "    \n",
        "    # 날짜/시간 변환\n",
        "    df['일시'] = pd.to_datetime(df['일시'])\n",
        "    \n",
        "    # 시간 관련 피처\n",
        "    df['연도'] = df['일시'].dt.year\n",
        "    df['월'] = df['일시'].dt.month\n",
        "    df['일'] = df['일시'].dt.day\n",
        "    df['시간'] = df['일시'].dt.hour\n",
        "    df['요일'] = df['일시'].dt.dayofweek\n",
        "    df['주말여부'] = (df['요일'] >= 5).astype(int)\n",
        "    \n",
        "    # 계절 피처\n",
        "    df['계절'] = df['월'].apply(lambda x: 0 if x in [12, 1, 2] else \n",
        "                              1 if x in [3, 4, 5] else \n",
        "                              2 if x in [6, 7, 8] else 3)\n",
        "    \n",
        "    # 시간대 구분\n",
        "    df['시간대'] = df['시간'].apply(lambda x: 0 if 6 <= x < 12 else \n",
        "                                1 if 12 <= x < 18 else \n",
        "                                2 if 18 <= x < 24 else 3)\n",
        "    \n",
        "    # 온도 관련 피처\n",
        "    df['온도_제곱'] = df['기온(°C)'] ** 2\n",
        "    \n",
        "    # CDH (Cooling Degree Hours) - 냉방도시\n",
        "    df['CDH'] = np.maximum(df['기온(°C)'] - 26, 0)\n",
        "    \n",
        "    # THI (Temperature Humidity Index) - 온습도지수\n",
        "    df['THI'] = 9/5 * df['기온(°C)'] - 0.55 * (1 - df['습도(%)'] / 100) * (9/5 * df['기온(°C)'] - 26) + 32\n",
        "    \n",
        "    # 기상 상호작용\n",
        "    df['습도_온도'] = df['습도(%)'] * df['기온(°C)']\n",
        "    df['바람세기'] = df['풍속(m/s)'] * df['기온(°C)']\n",
        "    \n",
        "    # 건물 관련 피처\n",
        "    df['냉방면적_비율'] = df['냉방면적(m2)'] / (df['연면적(m2)'] + 1)\n",
        "    \n",
        "    \n",
        "    # 건물 유형을 카테고리 피처로 유지 (AutoGluon이 자동으로 처리)\n",
        "    # 별도의 인코딩이나 더미 변수 생성 없이 그대로 사용\n",
        "    \n",
        "    return df\n",
        "\n",
        "# Feature Engineering 적용\n",
        "train_processed = create_features(train_df, building_info)\n",
        "test_processed = create_features(test_df, building_info)\n",
        "\n",
        "print(\"처리된 train 데이터 크기:\", train_processed.shape)\n",
        "print(\"처리된 test 데이터 크기:\", test_processed.shape)\n"
      ]
    },
    {
      "cell_type": "code",
      "execution_count": 33,
      "metadata": {},
      "outputs": [
        {
          "name": "stdout",
          "output_type": "stream",
          "text": [
            "=== 데이터 처리 결과 ===\n",
            "생성된 피처들:\n",
            "총 피처 개수: 23\n",
            "\n",
            "=== 피처 목록 ===\n",
            " 1. num_date_time\n",
            " 2. 건물번호\n",
            " 3. 기온(°C)\n",
            " 4. 강수량(mm)\n",
            " 5. 풍속(m/s)\n",
            " 6. 습도(%)\n",
            " 7. 건물유형\n",
            " 8. 연면적(m2)\n",
            " 9. 냉방면적(m2)\n",
            "10. 연도\n",
            "11. 월\n",
            "12. 일\n",
            "13. 시간\n",
            "14. 요일\n",
            "15. 주말여부\n",
            "16. 계절\n",
            "17. 시간대\n",
            "18. 온도_제곱\n",
            "19. CDH\n",
            "20. THI\n",
            "21. 습도_온도\n",
            "22. 바람세기\n",
            "23. 냉방면적_비율\n",
            "\n",
            "=== 건물 정보 병합 확인 ===\n",
            "건물 유형 분포:\n",
            "건물유형\n",
            "백화점         32640\n",
            "호텔          20400\n",
            "상용          20400\n",
            "학교          20400\n",
            "건물기타        20400\n",
            "병원          18360\n",
            "아파트         18360\n",
            "연구소         18360\n",
            "IDC(전화국)    18360\n",
            "공공          16320\n",
            "Name: count, dtype: int64\n",
            "\n",
            "건물 정보 통계:\n",
            "            연면적(m2)      냉방면적(m2)\n",
            "count  2.040000e+05  2.040000e+05\n",
            "mean   1.857529e+05  1.091272e+05\n",
            "std    3.373847e+05  2.066793e+05\n",
            "min    1.003542e+04  3.378400e+02\n",
            "25%    5.698032e+04  2.595468e+04\n",
            "50%    1.049387e+05  6.433699e+04\n",
            "75%    2.027810e+05  1.243468e+05\n",
            "max    3.260213e+06  1.956128e+06\n",
            "\n",
            "=== 제외된 피처 확인 ===\n",
            "제외된 피처들:\n",
            "  - 일조(hr)\n",
            "  - 일사(MJ/m2)\n",
            "  - 태양광용량(kW)\n",
            "  - ESS저장용량(kWh)\n",
            "  - PCS용량(kW)\n",
            "\n",
            "=== 핵심 피처 분류 ===\n",
            "시간 관련 피처: 8개\n",
            "기상 관련 피처: 7개\n",
            "건물 관련 피처: 5개\n",
            "건물 유형 (카테고리): 1개\n",
            "\n",
            "✅ 간단하고 효과적인 피처 구성 완료!\n"
          ]
        }
      ],
      "source": [
        "# 생성된 피처 확인\n",
        "print(\"=== 데이터 처리 결과 ===\")\n",
        "print(\"생성된 피처들:\")\n",
        "feature_columns = [col for col in train_processed.columns if col not in ['일시', '전력소비량(kWh)']]\n",
        "print(f\"총 피처 개수: {len(feature_columns)}\")\n",
        "print(\"\\n=== 피처 목록 ===\")\n",
        "for i, col in enumerate(feature_columns, 1):\n",
        "    print(f\"{i:2d}. {col}\")\n",
        "\n",
        "print(\"\\n=== 건물 정보 병합 확인 ===\")\n",
        "print(\"건물 유형 분포:\")\n",
        "print(train_processed['건물유형'].value_counts())\n",
        "print(\"\\n건물 정보 통계:\")\n",
        "print(train_processed[['연면적(m2)', '냉방면적(m2)']].describe())\n",
        "\n",
        "print(\"\\n=== 제외된 피처 확인 ===\")\n",
        "excluded_features = ['일조(hr)', '일사(MJ/m2)', '태양광용량(kW)', 'ESS저장용량(kWh)', 'PCS용량(kW)']\n",
        "print(\"제외된 피처들:\")\n",
        "for feat in excluded_features:\n",
        "    print(f\"  - {feat}\")\n",
        "\n",
        "print(\"\\n=== 핵심 피처 분류 ===\")\n",
        "time_features = [col for col in feature_columns if any(keyword in col for keyword in ['연도', '월', '일', '시간', '요일', '주말', '계절', '시간대'])]\n",
        "weather_features = [col for col in feature_columns if any(keyword in col for keyword in ['기온', '습도', '풍속', 'CDH', 'THI', '바람세기'])]\n",
        "building_features = [col for col in feature_columns if any(keyword in col for keyword in ['건물', '연면적', '냉방면적'])]\n",
        "\n",
        "print(f\"시간 관련 피처: {len(time_features)}개\")\n",
        "print(f\"기상 관련 피처: {len(weather_features)}개\")\n",
        "print(f\"건물 관련 피처: {len(building_features)}개\")\n",
        "print(f\"건물 유형 (카테고리): 1개\")\n",
        "\n",
        "print(\"\\n✅ 간단하고 효과적인 피처 구성 완료!\")\n"
      ]
    },
    {
      "cell_type": "code",
      "execution_count": 34,
      "metadata": {},
      "outputs": [
        {
          "data": {
            "text/plain": [
              "Index(['num_date_time', '건물번호', '일시', '기온(°C)', '강수량(mm)', '풍속(m/s)', '습도(%)',\n",
              "       '전력소비량(kWh)', '건물유형', '연면적(m2)', '냉방면적(m2)', '연도', '월', '일', '시간', '요일',\n",
              "       '주말여부', '계절', '시간대', '온도_제곱', 'CDH', 'THI', '습도_온도', '바람세기', '냉방면적_비율'],\n",
              "      dtype='object')"
            ]
          },
          "execution_count": 34,
          "metadata": {},
          "output_type": "execute_result"
        }
      ],
      "source": [
        "train_processed.columns"
      ]
    },
    {
      "cell_type": "raw",
      "metadata": {
        "vscode": {
          "languageId": "raw"
        }
      },
      "source": [
        "## 3. 건물 정보 시각화\n"
      ]
    },
    {
      "cell_type": "raw",
      "metadata": {
        "vscode": {
          "languageId": "raw"
        }
      },
      "source": [
        "## 4. AutoML 모델 훈련\n"
      ]
    },
    {
      "cell_type": "code",
      "execution_count": 35,
      "metadata": {},
      "outputs": [
        {
          "name": "stdout",
          "output_type": "stream",
          "text": [
            "=== AutoML 훈련 데이터 준비 완료 ===\n",
            "데이터 크기: (204000, 22)\n",
            "피처 개수: 21\n",
            "\n",
            "=== 데이터 타입 분포 ===\n",
            "float64    13\n",
            "int32       6\n",
            "int64       3\n",
            "Name: count, dtype: int64\n",
            "\n",
            "=== 결측치 확인 ===\n",
            "결측치 없음 ✓\n"
          ]
        }
      ],
      "source": [
        "# AutoML을 위한 데이터 준비\n",
        "# 불필요한 컬럼 제거\n",
        "exclude_columns = ['일시', '건물유형']  # 건물유형은 더미변수로 이미 처리됨\n",
        "# num_date_time 컬럼이 있는 경우 제외\n",
        "if 'num_date_time' in train_processed.columns:\n",
        "    exclude_columns.append('num_date_time')\n",
        "feature_columns = [col for col in train_processed.columns if col not in exclude_columns + ['전력소비량(kWh)']]\n",
        "\n",
        "# 훈련 데이터 준비\n",
        "X_train = train_processed[feature_columns].copy()\n",
        "y_train = train_processed['전력소비량(kWh)'].copy()\n",
        "\n",
        "# 카테고리 변수 처리\n",
        "categorical_columns = ['건물크기_등급', '냉방면적_등급']\n",
        "for col in categorical_columns:\n",
        "    if col in X_train.columns:\n",
        "        X_train[col] = X_train[col].astype('category').cat.codes\n",
        "\n",
        "# 결측치 처리\n",
        "# 수치형 변수는 평균으로, 카테고리형 변수는 최빈값으로 처리\n",
        "numeric_columns = X_train.select_dtypes(include=[np.number]).columns\n",
        "X_train[numeric_columns] = X_train[numeric_columns].fillna(X_train[numeric_columns].mean())\n",
        "\n",
        "# AutoGluon용 데이터셋 생성\n",
        "train_data = X_train.copy()\n",
        "train_data['target'] = y_train\n",
        "\n",
        "print(\"=== AutoML 훈련 데이터 준비 완료 ===\")\n",
        "print(f\"데이터 크기: {train_data.shape}\")\n",
        "print(f\"피처 개수: {len(feature_columns)}\")\n",
        "\n",
        "# 데이터 타입 확인\n",
        "print(\"\\n=== 데이터 타입 분포 ===\")\n",
        "print(train_data.dtypes.value_counts())\n",
        "\n",
        "# 결측치 확인\n",
        "print(\"\\n=== 결측치 확인 ===\")\n",
        "missing_counts = train_data.isnull().sum()\n",
        "if missing_counts.sum() > 0:\n",
        "    print(\"결측치가 있는 컬럼:\")\n",
        "    print(missing_counts[missing_counts > 0])\n",
        "else:\n",
        "    print(\"결측치 없음 ✓\")\n"
      ]
    },
    {
      "cell_type": "code",
      "execution_count": 36,
      "metadata": {},
      "outputs": [
        {
          "name": "stderr",
          "output_type": "stream",
          "text": [
            "Warning: path already exists! This predictor may overwrite an existing predictor! path=\"./automl_models\"\n",
            "Verbosity: 2 (Standard Logging)\n",
            "=================== System Info ===================\n",
            "AutoGluon Version:  1.3.1\n",
            "Python Version:     3.10.16\n",
            "Operating System:   Windows\n",
            "Platform Machine:   AMD64\n",
            "Platform Version:   10.0.19044\n",
            "CPU Count:          12\n",
            "Memory Avail:       33.58 GB / 47.89 GB (70.1%)\n",
            "Disk Space Avail:   359.18 GB / 930.99 GB (38.6%)\n",
            "===================================================\n",
            "Presets specified: ['medium_quality']\n",
            "Beginning AutoGluon training ... Time limit = 600s\n",
            "AutoGluon will save models to \"c:\\Users\\minkyu\\Desktop\\electric predict\\automl_models\"\n",
            "Train Data Rows:    204000\n",
            "Train Data Columns: 21\n",
            "Label Column:       target\n",
            "Problem Type:       regression\n",
            "Preprocessing data ...\n",
            "Using Feature Generators to preprocess the data ...\n",
            "Fitting AutoMLPipelineFeatureGenerator...\n",
            "\tAvailable Memory:                    34382.50 MB\n",
            "\tTrain Data (Original)  Memory Usage: 28.02 MB (0.1% of available memory)\n",
            "\tInferring data type of each feature based on column values. Set feature_metadata_in to manually specify special dtypes of the features.\n",
            "\tStage 1 Generators:\n",
            "\t\tFitting AsTypeFeatureGenerator...\n",
            "\t\t\tNote: Converting 1 features to boolean dtype as they only contain 2 unique values.\n",
            "\tStage 2 Generators:\n",
            "\t\tFitting FillNaFeatureGenerator...\n",
            "\tStage 3 Generators:\n",
            "\t\tFitting IdentityFeatureGenerator...\n"
          ]
        },
        {
          "name": "stdout",
          "output_type": "stream",
          "text": [
            "=== AutoML 모델 훈련 시작 ===\n",
            "AutoGluon TabularPredictor 설정...\n",
            "모델 훈련 중... (최대 10분 소요)\n",
            "사용 설정:\n",
            "- 시간 제한: 10분\n",
            "- 품질 설정: medium_quality\n",
            "- 평가 지표: RMSE\n"
          ]
        },
        {
          "name": "stderr",
          "output_type": "stream",
          "text": [
            "\tStage 4 Generators:\n",
            "\t\tFitting DropUniqueFeatureGenerator...\n",
            "\tStage 5 Generators:\n",
            "\t\tFitting DropDuplicatesFeatureGenerator...\n",
            "\tUseless Original Features (Count: 2): ['연도', '계절']\n",
            "\t\tThese features carry no predictive signal and should be manually investigated.\n",
            "\t\tThis is typically a feature which has the same value for all rows.\n",
            "\t\tThese features do not need to be present at inference time.\n",
            "\tTypes of features in original data (raw dtype, special dtypes):\n",
            "\t\t('float', []) : 12 | ['기온(°C)', '강수량(mm)', '풍속(m/s)', '습도(%)', '연면적(m2)', ...]\n",
            "\t\t('int', [])   :  7 | ['건물번호', '월', '일', '시간', '요일', ...]\n",
            "\tTypes of features in processed data (raw dtype, special dtypes):\n",
            "\t\t('float', [])     : 12 | ['기온(°C)', '강수량(mm)', '풍속(m/s)', '습도(%)', '연면적(m2)', ...]\n",
            "\t\t('int', [])       :  6 | ['건물번호', '월', '일', '시간', '요일', ...]\n",
            "\t\t('int', ['bool']) :  1 | ['주말여부']\n",
            "\t0.2s = Fit runtime\n",
            "\t19 features in original data used to generate 19 features in processed data.\n",
            "\tTrain Data (Processed) Memory Usage: 25.10 MB (0.1% of available memory)\n",
            "Data preprocessing and feature engineering runtime = 0.28s ...\n",
            "AutoGluon will gauge predictive performance using evaluation metric: 'root_mean_squared_error'\n",
            "\tThis metric's sign has been flipped to adhere to being higher_is_better. The metric score can be multiplied by -1 to get the metric value.\n",
            "\tTo change this, specify the eval_metric parameter of Predictor()\n",
            "Automatically generating train/validation split with holdout_frac=0.012254901960784314, Train Rows: 201500, Val Rows: 2500\n",
            "User-specified model hyperparameters to be fit:\n",
            "{\n",
            "\t'NN_TORCH': [{}],\n",
            "\t'GBM': [{'extra_trees': True, 'ag_args': {'name_suffix': 'XT'}}, {}, {'learning_rate': 0.03, 'num_leaves': 128, 'feature_fraction': 0.9, 'min_data_in_leaf': 3, 'ag_args': {'name_suffix': 'Large', 'priority': 0, 'hyperparameter_tune_kwargs': None}}],\n",
            "\t'CAT': [{}],\n",
            "\t'XGB': [{}],\n",
            "\t'FASTAI': [{}],\n",
            "\t'RF': [{'criterion': 'gini', 'ag_args': {'name_suffix': 'Gini', 'problem_types': ['binary', 'multiclass']}}, {'criterion': 'entropy', 'ag_args': {'name_suffix': 'Entr', 'problem_types': ['binary', 'multiclass']}}, {'criterion': 'squared_error', 'ag_args': {'name_suffix': 'MSE', 'problem_types': ['regression', 'quantile']}}],\n",
            "\t'XT': [{'criterion': 'gini', 'ag_args': {'name_suffix': 'Gini', 'problem_types': ['binary', 'multiclass']}}, {'criterion': 'entropy', 'ag_args': {'name_suffix': 'Entr', 'problem_types': ['binary', 'multiclass']}}, {'criterion': 'squared_error', 'ag_args': {'name_suffix': 'MSE', 'problem_types': ['regression', 'quantile']}}],\n",
            "\t'KNN': [{'weights': 'uniform', 'ag_args': {'name_suffix': 'Unif'}}, {'weights': 'distance', 'ag_args': {'name_suffix': 'Dist'}}],\n",
            "}\n",
            "Fitting 11 L1 models, fit_strategy=\"sequential\" ...\n",
            "Fitting model: KNeighborsUnif ... Training model for up to 599.72s of the 599.72s of remaining time.\n",
            "\t-852.5685\t = Validation score   (-root_mean_squared_error)\n",
            "\t0.09s\t = Training   runtime\n",
            "\t0.07s\t = Validation runtime\n",
            "Fitting model: KNeighborsDist ... Training model for up to 599.54s of the 599.54s of remaining time.\n",
            "\t-860.8705\t = Validation score   (-root_mean_squared_error)\n",
            "\t0.09s\t = Training   runtime\n",
            "\t0.07s\t = Validation runtime\n",
            "Fitting model: LightGBMXT ... Training model for up to 599.33s of the 599.33s of remaining time.\n"
          ]
        },
        {
          "name": "stdout",
          "output_type": "stream",
          "text": [
            "[1000]\tvalid_set's rmse: 482.083\n",
            "[2000]\tvalid_set's rmse: 407.714\n",
            "[3000]\tvalid_set's rmse: 372.683\n",
            "[4000]\tvalid_set's rmse: 351.381\n",
            "[5000]\tvalid_set's rmse: 336.135\n",
            "[6000]\tvalid_set's rmse: 323.189\n",
            "[7000]\tvalid_set's rmse: 313.856\n",
            "[8000]\tvalid_set's rmse: 306.796\n",
            "[9000]\tvalid_set's rmse: 299.538\n",
            "[10000]\tvalid_set's rmse: 293.943\n"
          ]
        },
        {
          "name": "stderr",
          "output_type": "stream",
          "text": [
            "\t-293.9428\t = Validation score   (-root_mean_squared_error)\n",
            "\t29.43s\t = Training   runtime\n",
            "\t0.15s\t = Validation runtime\n",
            "Fitting model: LightGBM ... Training model for up to 569.37s of the 569.37s of remaining time.\n"
          ]
        },
        {
          "name": "stdout",
          "output_type": "stream",
          "text": [
            "[1000]\tvalid_set's rmse: 282.688\n",
            "[2000]\tvalid_set's rmse: 231.541\n",
            "[3000]\tvalid_set's rmse: 212.967\n",
            "[4000]\tvalid_set's rmse: 201.479\n",
            "[5000]\tvalid_set's rmse: 194.034\n",
            "[6000]\tvalid_set's rmse: 189.153\n",
            "[7000]\tvalid_set's rmse: 184.871\n",
            "[8000]\tvalid_set's rmse: 182.077\n",
            "[9000]\tvalid_set's rmse: 179.836\n",
            "[10000]\tvalid_set's rmse: 178.038\n"
          ]
        },
        {
          "name": "stderr",
          "output_type": "stream",
          "text": [
            "\t-178.024\t = Validation score   (-root_mean_squared_error)\n",
            "\t27.35s\t = Training   runtime\n",
            "\t0.18s\t = Validation runtime\n",
            "Fitting model: RandomForestMSE ... Training model for up to 541.48s of the 541.48s of remaining time.\n",
            "\t-196.2629\t = Validation score   (-root_mean_squared_error)\n",
            "\t48.8s\t = Training   runtime\n",
            "\t0.05s\t = Validation runtime\n",
            "Fitting model: CatBoost ... Training model for up to 492.32s of the 492.32s of remaining time.\n",
            "\t-229.648\t = Validation score   (-root_mean_squared_error)\n",
            "\t209.13s\t = Training   runtime\n",
            "\t0.01s\t = Validation runtime\n",
            "Fitting model: ExtraTreesMSE ... Training model for up to 283.16s of the 283.16s of remaining time.\n",
            "\t-214.9995\t = Validation score   (-root_mean_squared_error)\n",
            "\t14.32s\t = Training   runtime\n",
            "\t0.05s\t = Validation runtime\n",
            "Fitting model: NeuralNetFastAI ... Training model for up to 268.50s of the 268.50s of remaining time.\n",
            "\t-487.5633\t = Validation score   (-root_mean_squared_error)\n",
            "\t65.75s\t = Training   runtime\n",
            "\t0.01s\t = Validation runtime\n",
            "Fitting model: XGBoost ... Training model for up to 202.65s of the 202.65s of remaining time.\n",
            "\t-198.3506\t = Validation score   (-root_mean_squared_error)\n",
            "\t45.48s\t = Training   runtime\n",
            "\t0.2s\t = Validation runtime\n",
            "Fitting model: NeuralNetTorch ... Training model for up to 156.76s of the 156.76s of remaining time.\n",
            "\tWarning: Exception caused NeuralNetTorch to fail during training... Skipping this model.\n",
            "\t\tColumnTransformer.__init__() got an unexpected keyword argument 'force_int_remainder_cols'\n",
            "Detailed Traceback:\n",
            "Traceback (most recent call last):\n",
            "  File \"c:\\Users\\minkyu\\AppData\\Local\\anaconda3\\envs\\sd2\\lib\\site-packages\\autogluon\\tabular\\trainer\\abstract_trainer.py\", line 2169, in _train_and_save\n",
            "    model = self._train_single(**model_fit_kwargs)\n",
            "  File \"c:\\Users\\minkyu\\AppData\\Local\\anaconda3\\envs\\sd2\\lib\\site-packages\\autogluon\\tabular\\trainer\\abstract_trainer.py\", line 2055, in _train_single\n",
            "    model = model.fit(X=X, y=y, X_val=X_val, y_val=y_val, X_test=X_test, y_test=y_test, total_resources=total_resources, **model_fit_kwargs)\n",
            "  File \"c:\\Users\\minkyu\\AppData\\Local\\anaconda3\\envs\\sd2\\lib\\site-packages\\autogluon\\core\\models\\abstract\\abstract_model.py\", line 1051, in fit\n",
            "    out = self._fit(**kwargs)\n",
            "  File \"c:\\Users\\minkyu\\AppData\\Local\\anaconda3\\envs\\sd2\\lib\\site-packages\\autogluon\\tabular\\models\\tabular_nn\\torch\\tabular_nn_torch.py\", line 209, in _fit\n",
            "    train_dataset = self._generate_dataset(X=X, y=y, train_params=processor_kwargs, is_train=True)\n",
            "  File \"c:\\Users\\minkyu\\AppData\\Local\\anaconda3\\envs\\sd2\\lib\\site-packages\\autogluon\\tabular\\models\\tabular_nn\\torch\\tabular_nn_torch.py\", line 687, in _generate_dataset\n",
            "    dataset = self._process_train_data(\n",
            "  File \"c:\\Users\\minkyu\\AppData\\Local\\anaconda3\\envs\\sd2\\lib\\site-packages\\autogluon\\tabular\\models\\tabular_nn\\torch\\tabular_nn_torch.py\", line 749, in _process_train_data\n",
            "    self.processor = create_preprocessor(\n",
            "  File \"c:\\Users\\minkyu\\AppData\\Local\\anaconda3\\envs\\sd2\\lib\\site-packages\\autogluon\\tabular\\models\\tabular_nn\\utils\\data_preprocessor.py\", line 40, in create_preprocessor\n",
            "    return ColumnTransformer(\n",
            "TypeError: ColumnTransformer.__init__() got an unexpected keyword argument 'force_int_remainder_cols'\n",
            "Fitting model: LightGBMLarge ... Training model for up to 156.45s of the 156.45s of remaining time.\n"
          ]
        },
        {
          "name": "stdout",
          "output_type": "stream",
          "text": [
            "[1000]\tvalid_set's rmse: 209.69\n",
            "[2000]\tvalid_set's rmse: 184.255\n",
            "[3000]\tvalid_set's rmse: 170.862\n",
            "[4000]\tvalid_set's rmse: 165.796\n",
            "[5000]\tvalid_set's rmse: 162.423\n",
            "[6000]\tvalid_set's rmse: 159.643\n",
            "[7000]\tvalid_set's rmse: 158.265\n",
            "[8000]\tvalid_set's rmse: 157.192\n",
            "[9000]\tvalid_set's rmse: 156.427\n",
            "[10000]\tvalid_set's rmse: 155.684\n"
          ]
        },
        {
          "name": "stderr",
          "output_type": "stream",
          "text": [
            "\t-155.6841\t = Validation score   (-root_mean_squared_error)\n",
            "\t39.89s\t = Training   runtime\n",
            "\t0.14s\t = Validation runtime\n",
            "Fitting model: WeightedEnsemble_L2 ... Training model for up to 360.00s of the 115.25s of remaining time.\n",
            "\tEnsemble Weights: {'LightGBMLarge': 0.938, 'RandomForestMSE': 0.062}\n",
            "\t-155.4677\t = Validation score   (-root_mean_squared_error)\n",
            "\t0.02s\t = Training   runtime\n",
            "\t0.0s\t = Validation runtime\n",
            "AutoGluon training complete, total runtime = 484.82s ... Best model: WeightedEnsemble_L2 | Estimated inference throughput: 13366.0 rows/s (2500 batch size)\n",
            "TabularPredictor saved. To load, use: predictor = TabularPredictor.load(\"c:\\Users\\minkyu\\Desktop\\electric predict\\automl_models\")\n"
          ]
        },
        {
          "name": "stdout",
          "output_type": "stream",
          "text": [
            "✓ 모델 훈련 완료!\n"
          ]
        }
      ],
      "source": [
        "# AutoGluon TabularDataset 생성\n",
        "train_dataset = TabularDataset(train_data)\n",
        "\n",
        "print(\"=== AutoML 모델 훈련 시작 ===\")\n",
        "print(\"AutoGluon TabularPredictor 설정...\")\n",
        "\n",
        "# AutoML 모델 훈련\n",
        "predictor = TabularPredictor(\n",
        "    label='target',\n",
        "    problem_type='regression',\n",
        "    eval_metric='rmse',\n",
        "    path='./automl_models'\n",
        ")\n",
        "\n",
        "print(\"모델 훈련 중... (최대 10분 소요)\")\n",
        "print(\"사용 설정:\")\n",
        "print(\"- 시간 제한: 10분\")\n",
        "print(\"- 품질 설정: medium_quality\")\n",
        "print(\"- 평가 지표: RMSE\")\n",
        "\n",
        "# 빠른 baseline을 위한 설정\n",
        "predictor.fit(\n",
        "    train_dataset,\n",
        "    time_limit=600,  # 10분 제한\n",
        "    presets='medium_quality',  # 중간 품질 설정\n",
        "    verbosity=2\n",
        ")\n",
        "\n",
        "print(\"✓ 모델 훈련 완료!\")\n"
      ]
    },
    {
      "cell_type": "raw",
      "metadata": {
        "vscode": {
          "languageId": "raw"
        }
      },
      "source": [
        "## 5. 모델 성능 평가\n"
      ]
    },
    {
      "cell_type": "code",
      "execution_count": 37,
      "metadata": {},
      "outputs": [
        {
          "name": "stdout",
          "output_type": "stream",
          "text": [
            "=== 모델 성능 리더보드 ===\n",
            "\n",
            "                  model   score_val              eval_metric  pred_time_val  \\\n",
            "0   WeightedEnsemble_L2 -155.467664  root_mean_squared_error       0.187042   \n",
            "1         LightGBMLarge -155.684060  root_mean_squared_error       0.139031   \n",
            "2              LightGBM -178.024004  root_mean_squared_error       0.183041   \n",
            "3       RandomForestMSE -196.262892  root_mean_squared_error       0.047010   \n",
            "4               XGBoost -198.350590  root_mean_squared_error       0.197045   \n",
            "5         ExtraTreesMSE -214.999453  root_mean_squared_error       0.046012   \n",
            "6              CatBoost -229.647993  root_mean_squared_error       0.005000   \n",
            "7            LightGBMXT -293.942804  root_mean_squared_error       0.153034   \n",
            "8       NeuralNetFastAI -487.563268  root_mean_squared_error       0.014003   \n",
            "9        KNeighborsUnif -852.568549  root_mean_squared_error       0.068015   \n",
            "10       KNeighborsDist -860.870498  root_mean_squared_error       0.067014   \n",
            "\n",
            "      fit_time  pred_time_val_marginal  fit_time_marginal  stack_level  \\\n",
            "0    88.697261                0.001001           0.015003            2   \n",
            "1    39.886785                0.139031          39.886785            1   \n",
            "2    27.354906                0.183041          27.354906            1   \n",
            "3    48.795473                0.047010          48.795473            1   \n",
            "4    45.483909                0.197045          45.483909            1   \n",
            "5    14.321604                0.046012          14.321604            1   \n",
            "6   209.130451                0.005000         209.130451            1   \n",
            "7    29.428484                0.153034          29.428484            1   \n",
            "8    65.746129                0.014003          65.746129            1   \n",
            "9     0.093021                0.068015           0.093021            1   \n",
            "10    0.094022                0.067014           0.094022            1   \n",
            "\n",
            "    can_infer  fit_order  \n",
            "0        True         11  \n",
            "1        True         10  \n",
            "2        True          4  \n",
            "3        True          5  \n",
            "4        True          9  \n",
            "5        True          7  \n",
            "6        True          6  \n",
            "7        True          3  \n",
            "8        True          8  \n",
            "9        True          1  \n",
            "10       True          2  \n"
          ]
        }
      ],
      "source": [
        "# 모델 성능 요약\n",
        "leaderboard = predictor.leaderboard()\n",
        "print(\"=== 모델 성능 리더보드 ===\\n\")\n",
        "print(leaderboard)\n"
      ]
    },
    {
      "cell_type": "code",
      "execution_count": 38,
      "metadata": {},
      "outputs": [
        {
          "name": "stderr",
          "output_type": "stream",
          "text": [
            "These features in provided data are not utilized by the predictor and will be ignored: ['연도', '계절']\n",
            "Computing feature importance via permutation shuffling for 19 features using 5000 rows with 5 shuffle sets...\n",
            "\t104.33s\t= Expected runtime (20.87s per shuffle set)\n",
            "\t33.86s\t= Actual runtime (Completed 5 of 5 shuffle sets)\n"
          ]
        },
        {
          "name": "stdout",
          "output_type": "stream",
          "text": [
            "=== 피처 중요도 (상위 20개) ===\n",
            "\n",
            "           importance     stddev       p_value  n     p99_high      p99_low\n",
            "연면적(m2)   3899.287950  41.437790  1.530245e-09  5  3984.608931  3813.966968\n",
            "건물번호      2651.717186  97.606369  2.198877e-07  5  2852.690048  2450.744323\n",
            "냉방면적_비율   1669.522127  57.501421  1.685933e-07  5  1787.918348  1551.125906\n",
            "냉방면적(m2)  1309.253786  30.669134  3.610557e-08  5  1372.401956  1246.105616\n",
            "시간        1076.283407  47.168308  4.415343e-07  5  1173.403605   979.163210\n",
            "월          400.501357  16.828193  3.731587e-07  5   435.150839   365.851876\n",
            "요일         396.642841  46.840052  2.290972e-05  5   493.087156   300.198525\n",
            "일          290.051029  34.556129  2.372516e-05  5   361.202576   218.899482\n",
            "THI        254.237120  41.834483  8.488768e-05  5   340.374898   168.099342\n",
            "시간대        245.035429  35.674936  5.242555e-05  5   318.490616   171.580243\n",
            "기온(°C)     101.119415  18.151373  1.194124e-04  5   138.493344    63.745487\n",
            "습도_온도       84.365348  17.363200  2.036601e-04  5   120.116418    48.614279\n",
            "습도(%)       50.771421  13.321814  5.201234e-04  5    78.201221    23.341621\n",
            "바람세기        30.873132  11.583532  1.989784e-03  5    54.723785     7.022480\n",
            "주말여부        28.936159  10.545149  1.788084e-03  5    50.648766     7.223551\n",
            "풍속(m/s)     23.089190   8.037106  1.509554e-03  5    39.637703     6.540678\n",
            "강수량(mm)      8.628436   3.366272  2.294456e-03  5    15.559637     1.697235\n",
            "온도_제곱        8.599744   2.897360  1.337275e-03  5    14.565447     2.634040\n",
            "CDH          1.388759   0.437564  1.040965e-03  5     2.289710     0.487809\n"
          ]
        }
      ],
      "source": [
        "# 피처 중요도 분석\n",
        "feature_importance = predictor.feature_importance(train_dataset)\n",
        "print(\"=== 피처 중요도 (상위 20개) ===\\n\")\n",
        "print(feature_importance.head(20))\n"
      ]
    },
    {
      "cell_type": "code",
      "execution_count": null,
      "metadata": {},
      "outputs": [],
      "source": [
        "# 피처 중요도 시각화\n",
        "plt.figure(figsize=(10, 8))\n",
        "top_features = feature_importance.head(15)\n",
        "plt.barh(range(len(top_features)), top_features['importance'])\n",
        "plt.yticks(range(len(top_features)), top_features['feature'])\n",
        "plt.xlabel('Feature Importance')\n",
        "plt.title('Top 15 Feature Importance')\n",
        "plt.gca().invert_yaxis()\n",
        "plt.tight_layout()\n",
        "plt.show()\n"
      ]
    },
    {
      "cell_type": "raw",
      "metadata": {
        "vscode": {
          "languageId": "raw"
        }
      },
      "source": [
        "## 6. 테스트 데이터 예측\n"
      ]
    },
    {
      "cell_type": "code",
      "execution_count": 39,
      "metadata": {},
      "outputs": [
        {
          "name": "stdout",
          "output_type": "stream",
          "text": [
            "=== 테스트 데이터 전처리 ===\n",
            "테스트 데이터 크기: (16800, 21)\n",
            "결측치 없음 ✓\n",
            "\n",
            "=== 예측 수행 ===\n",
            "=== 예측 결과 ===\n",
            "예측값 개수: 16800\n",
            "예측값 범위: -142.26 ~ 25953.91\n",
            "예측값 평균: 3558.92\n",
            "예측값 표준편차: 3744.96\n",
            "\n",
            "=== 예측값 기본 통계 ===\n",
            "최솟값: -142.26\n",
            "25%: 1361.55\n",
            "50% (중앙값): 2135.72\n",
            "75%: 4116.41\n",
            "최댓값: 25953.91\n"
          ]
        }
      ],
      "source": [
        "# 테스트 데이터 전처리 (훈련 데이터와 동일한 방식)\n",
        "print(\"=== 테스트 데이터 전처리 ===\")\n",
        "X_test = test_processed[feature_columns].copy()\n",
        "\n",
        "# 결측치 처리 (훈련 데이터와 동일)\n",
        "X_test = X_test.fillna(X_test.mean())\n",
        "\n",
        "print(f\"테스트 데이터 크기: {X_test.shape}\")\n",
        "\n",
        "# 결측치 확인\n",
        "missing_counts = X_test.isnull().sum()\n",
        "if missing_counts.sum() > 0:\n",
        "    print(\"결측치가 있는 컬럼:\")\n",
        "    print(missing_counts[missing_counts > 0])\n",
        "else:\n",
        "    print(\"결측치 없음 ✓\")\n",
        "\n",
        "# 테스트 데이터셋 생성\n",
        "test_dataset = TabularDataset(X_test)\n",
        "\n",
        "print(\"\\n=== 예측 수행 ===\")\n",
        "# 예측 수행\n",
        "predictions = predictor.predict(test_dataset)\n",
        "\n",
        "print(\"=== 예측 결과 ===\")\n",
        "print(f\"예측값 개수: {len(predictions)}\")\n",
        "print(f\"예측값 범위: {predictions.min():.2f} ~ {predictions.max():.2f}\")\n",
        "print(f\"예측값 평균: {predictions.mean():.2f}\")\n",
        "print(f\"예측값 표준편차: {predictions.std():.2f}\")\n",
        "\n",
        "# 예측값 기본 통계\n",
        "print(f\"\\n=== 예측값 기본 통계 ===\")\n",
        "print(f\"최솟값: {predictions.min():.2f}\")\n",
        "print(f\"25%: {np.percentile(predictions, 25):.2f}\")\n",
        "print(f\"50% (중앙값): {np.percentile(predictions, 50):.2f}\")\n",
        "print(f\"75%: {np.percentile(predictions, 75):.2f}\")\n",
        "print(f\"최댓값: {predictions.max():.2f}\")\n"
      ]
    },
    {
      "cell_type": "raw",
      "metadata": {
        "vscode": {
          "languageId": "raw"
        }
      },
      "source": [
        "## 7. 제출 파일 생성\n"
      ]
    },
    {
      "cell_type": "code",
      "execution_count": 40,
      "metadata": {},
      "outputs": [
        {
          "name": "stdout",
          "output_type": "stream",
          "text": [
            "제출 파일 생성 완료: automl_baseline_submission.csv\n",
            "\n",
            "제출 파일 샘플:\n",
            "   num_date_time       answer\n",
            "0  1_20240825 00  4308.186523\n",
            "1  1_20240825 01  4234.897461\n",
            "2  1_20240825 02  3541.450684\n",
            "3  1_20240825 03  3271.308350\n",
            "4  1_20240825 04  3127.676270\n",
            "\n",
            "제출 파일 크기: (16800, 2)\n"
          ]
        }
      ],
      "source": [
        "# 제출 파일 생성\n",
        "submission = sample_submission.copy()\n",
        "submission['answer'] = predictions\n",
        "\n",
        "# 음수값 처리 (전력소비량은 0보다 커야 함)\n",
        "submission['answer'] = np.maximum(submission['answer'], 0)\n",
        "\n",
        "# 제출 파일 저장\n",
        "submission.to_csv('automl_baseline_submission.csv', index=False)\n",
        "\n",
        "print(\"제출 파일 생성 완료: automl_baseline_submission.csv\")\n",
        "print(\"\\n제출 파일 샘플:\")\n",
        "print(submission.head())\n",
        "print(f\"\\n제출 파일 크기: {submission.shape}\")\n"
      ]
    },
    {
      "cell_type": "raw",
      "metadata": {
        "vscode": {
          "languageId": "raw"
        }
      },
      "source": [
        "## 8. 결과 분석 및 시각화\n"
      ]
    },
    {
      "cell_type": "code",
      "execution_count": 41,
      "metadata": {},
      "outputs": [
        {
          "data": {
            "image/png": "[encoded data removed]",
            "text/plain": [
              "<Figure size 1500x500 with 3 Axes>"
            ]
          },
          "metadata": {},
          "output_type": "display_data"
        }
      ],
      "source": [
        "# 예측값 분포 시각화\n",
        "plt.figure(figsize=(15, 5))\n",
        "\n",
        "# 실제값 vs 예측값 분포 비교\n",
        "plt.subplot(1, 3, 1)\n",
        "plt.hist(train_processed['전력소비량(kWh)'], bins=50, alpha=0.7, label='Train (Actual)', density=True)\n",
        "plt.hist(predictions, bins=50, alpha=0.7, label='Test (Predicted)', density=True)\n",
        "plt.xlabel('Power Consumption (kWh)')\n",
        "plt.ylabel('Density')\n",
        "plt.title('Distribution Comparison')\n",
        "plt.legend()\n",
        "\n",
        "# 예측값 히스토그램\n",
        "plt.subplot(1, 3, 2)\n",
        "plt.hist(predictions, bins=50, alpha=0.7, color='orange')\n",
        "plt.xlabel('Predicted Power Consumption (kWh)')\n",
        "plt.ylabel('Frequency')\n",
        "plt.title('Prediction Distribution')\n",
        "\n",
        "# 예측값 박스플롯\n",
        "plt.subplot(1, 3, 3)\n",
        "plt.boxplot(predictions)\n",
        "plt.ylabel('Predicted Power Consumption (kWh)')\n",
        "plt.title('Prediction Box Plot')\n",
        "\n",
        "plt.tight_layout()\n",
        "plt.show()\n"
      ]
    },
    {
      "cell_type": "code",
      "execution_count": 42,
      "metadata": {},
      "outputs": [
        {
          "name": "stdout",
          "output_type": "stream",
          "text": [
            "=== AutoML Baseline 모델 요약 ===\n",
            "사용된 피처 개수: 21\n",
            "최고 성능 모델: WeightedEnsemble_L2\n",
            "최고 성능 점수 (RMSE): -155.4677\n",
            "예측 범위: -142.26 ~ 25953.91\n",
            "예측 평균: 3558.92\n",
            "\n",
            "=== 건물 정보 활용 현황 ===\n",
            "건물 관련 피처 개수: 4\n",
            "주요 건물 관련 피처:\n",
            "  - 건물번호\n",
            "  - 연면적(m2)\n",
            "  - 냉방면적(m2)\n",
            "  - 냉방면적_비율\n",
            "\n",
            "=== 상위 15개 중요 피처 ===\n"
          ]
        },
        {
          "ename": "KeyError",
          "evalue": "'feature'",
          "output_type": "error",
          "traceback": [
            "\u001b[1;31m---------------------------------------------------------------------------\u001b[0m",
            "\u001b[1;31mKeyError\u001b[0m                                  Traceback (most recent call last)",
            "File \u001b[1;32mc:\\Users\\minkyu\\AppData\\Local\\anaconda3\\envs\\sd2\\lib\\site-packages\\pandas\\core\\indexes\\base.py:3791\u001b[0m, in \u001b[0;36mIndex.get_loc\u001b[1;34m(self, key)\u001b[0m\n\u001b[0;32m   3790\u001b[0m \u001b[38;5;28;01mtry\u001b[39;00m:\n\u001b[1;32m-> 3791\u001b[0m     \u001b[38;5;28;01mreturn\u001b[39;00m \u001b[38;5;28;43mself\u001b[39;49m\u001b[38;5;241;43m.\u001b[39;49m\u001b[43m_engine\u001b[49m\u001b[38;5;241;43m.\u001b[39;49m\u001b[43mget_loc\u001b[49m\u001b[43m(\u001b[49m\u001b[43mcasted_key\u001b[49m\u001b[43m)\u001b[49m\n\u001b[0;32m   3792\u001b[0m \u001b[38;5;28;01mexcept\u001b[39;00m \u001b[38;5;167;01mKeyError\u001b[39;00m \u001b[38;5;28;01mas\u001b[39;00m err:\n",
            "File \u001b[1;32mindex.pyx:152\u001b[0m, in \u001b[0;36mpandas._libs.index.IndexEngine.get_loc\u001b[1;34m()\u001b[0m\n",
            "File \u001b[1;32mindex.pyx:181\u001b[0m, in \u001b[0;36mpandas._libs.index.IndexEngine.get_loc\u001b[1;34m()\u001b[0m\n",
            "File \u001b[1;32mpandas\\_libs\\hashtable_class_helper.pxi:7080\u001b[0m, in \u001b[0;36mpandas._libs.hashtable.PyObjectHashTable.get_item\u001b[1;34m()\u001b[0m\n",
            "File \u001b[1;32mpandas\\_libs\\hashtable_class_helper.pxi:7088\u001b[0m, in \u001b[0;36mpandas._libs.hashtable.PyObjectHashTable.get_item\u001b[1;34m()\u001b[0m\n",
            "\u001b[1;31mKeyError\u001b[0m: 'feature'",
            "\nThe above exception was the direct cause of the following exception:\n",
            "\u001b[1;31mKeyError\u001b[0m                                  Traceback (most recent call last)",
            "Cell \u001b[1;32mIn[42], line 18\u001b[0m\n\u001b[0;32m     15\u001b[0m     \u001b[38;5;28mprint\u001b[39m(\u001b[38;5;124mf\u001b[39m\u001b[38;5;124m\"\u001b[39m\u001b[38;5;124m  - \u001b[39m\u001b[38;5;132;01m{\u001b[39;00mfeat\u001b[38;5;132;01m}\u001b[39;00m\u001b[38;5;124m\"\u001b[39m)\n\u001b[0;32m     17\u001b[0m \u001b[38;5;28mprint\u001b[39m(\u001b[38;5;124m\"\u001b[39m\u001b[38;5;130;01m\\n\u001b[39;00m\u001b[38;5;124m=== 상위 15개 중요 피처 ===\u001b[39m\u001b[38;5;124m\"\u001b[39m)\n\u001b[1;32m---> 18\u001b[0m \u001b[38;5;28;01mfor\u001b[39;00m i, (feature, importance) \u001b[38;5;129;01min\u001b[39;00m \u001b[38;5;28menumerate\u001b[39m(\u001b[38;5;28mzip\u001b[39m(\u001b[43mfeature_importance\u001b[49m\u001b[38;5;241;43m.\u001b[39;49m\u001b[43mhead\u001b[49m\u001b[43m(\u001b[49m\u001b[38;5;241;43m15\u001b[39;49m\u001b[43m)\u001b[49m\u001b[43m[\u001b[49m\u001b[38;5;124;43m'\u001b[39;49m\u001b[38;5;124;43mfeature\u001b[39;49m\u001b[38;5;124;43m'\u001b[39;49m\u001b[43m]\u001b[49m, \n\u001b[0;32m     19\u001b[0m                                             feature_importance\u001b[38;5;241m.\u001b[39mhead(\u001b[38;5;241m15\u001b[39m)[\u001b[38;5;124m'\u001b[39m\u001b[38;5;124mimportance\u001b[39m\u001b[38;5;124m'\u001b[39m])):\n\u001b[0;32m     20\u001b[0m     \u001b[38;5;66;03m# 건물 관련 피처는 * 표시\u001b[39;00m\n\u001b[0;32m     21\u001b[0m     marker \u001b[38;5;241m=\u001b[39m \u001b[38;5;124m\"\u001b[39m\u001b[38;5;124m *\u001b[39m\u001b[38;5;124m\"\u001b[39m \u001b[38;5;28;01mif\u001b[39;00m \u001b[38;5;28many\u001b[39m(keyword \u001b[38;5;129;01min\u001b[39;00m feature \u001b[38;5;28;01mfor\u001b[39;00m keyword \u001b[38;5;129;01min\u001b[39;00m \n\u001b[0;32m     22\u001b[0m                         [\u001b[38;5;124m'\u001b[39m\u001b[38;5;124m건물\u001b[39m\u001b[38;5;124m'\u001b[39m, \u001b[38;5;124m'\u001b[39m\u001b[38;5;124m연면적\u001b[39m\u001b[38;5;124m'\u001b[39m, \u001b[38;5;124m'\u001b[39m\u001b[38;5;124m냉방면적\u001b[39m\u001b[38;5;124m'\u001b[39m]) \u001b[38;5;28;01melse\u001b[39;00m \u001b[38;5;124m\"\u001b[39m\u001b[38;5;124m\"\u001b[39m\n\u001b[0;32m     23\u001b[0m     \u001b[38;5;28mprint\u001b[39m(\u001b[38;5;124mf\u001b[39m\u001b[38;5;124m\"\u001b[39m\u001b[38;5;132;01m{\u001b[39;00mi\u001b[38;5;241m+\u001b[39m\u001b[38;5;241m1\u001b[39m\u001b[38;5;132;01m:\u001b[39;00m\u001b[38;5;124m2d\u001b[39m\u001b[38;5;132;01m}\u001b[39;00m\u001b[38;5;124m. \u001b[39m\u001b[38;5;132;01m{\u001b[39;00mfeature\u001b[38;5;132;01m}\u001b[39;00m\u001b[38;5;124m: \u001b[39m\u001b[38;5;132;01m{\u001b[39;00mimportance\u001b[38;5;132;01m:\u001b[39;00m\u001b[38;5;124m.4f\u001b[39m\u001b[38;5;132;01m}\u001b[39;00m\u001b[38;5;132;01m{\u001b[39;00mmarker\u001b[38;5;132;01m}\u001b[39;00m\u001b[38;5;124m\"\u001b[39m)\n",
            "File \u001b[1;32mc:\\Users\\minkyu\\AppData\\Local\\anaconda3\\envs\\sd2\\lib\\site-packages\\pandas\\core\\frame.py:3893\u001b[0m, in \u001b[0;36mDataFrame.__getitem__\u001b[1;34m(self, key)\u001b[0m\n\u001b[0;32m   3891\u001b[0m \u001b[38;5;28;01mif\u001b[39;00m \u001b[38;5;28mself\u001b[39m\u001b[38;5;241m.\u001b[39mcolumns\u001b[38;5;241m.\u001b[39mnlevels \u001b[38;5;241m>\u001b[39m \u001b[38;5;241m1\u001b[39m:\n\u001b[0;32m   3892\u001b[0m     \u001b[38;5;28;01mreturn\u001b[39;00m \u001b[38;5;28mself\u001b[39m\u001b[38;5;241m.\u001b[39m_getitem_multilevel(key)\n\u001b[1;32m-> 3893\u001b[0m indexer \u001b[38;5;241m=\u001b[39m \u001b[38;5;28;43mself\u001b[39;49m\u001b[38;5;241;43m.\u001b[39;49m\u001b[43mcolumns\u001b[49m\u001b[38;5;241;43m.\u001b[39;49m\u001b[43mget_loc\u001b[49m\u001b[43m(\u001b[49m\u001b[43mkey\u001b[49m\u001b[43m)\u001b[49m\n\u001b[0;32m   3894\u001b[0m \u001b[38;5;28;01mif\u001b[39;00m is_integer(indexer):\n\u001b[0;32m   3895\u001b[0m     indexer \u001b[38;5;241m=\u001b[39m [indexer]\n",
            "File \u001b[1;32mc:\\Users\\minkyu\\AppData\\Local\\anaconda3\\envs\\sd2\\lib\\site-packages\\pandas\\core\\indexes\\base.py:3798\u001b[0m, in \u001b[0;36mIndex.get_loc\u001b[1;34m(self, key)\u001b[0m\n\u001b[0;32m   3793\u001b[0m     \u001b[38;5;28;01mif\u001b[39;00m \u001b[38;5;28misinstance\u001b[39m(casted_key, \u001b[38;5;28mslice\u001b[39m) \u001b[38;5;129;01mor\u001b[39;00m (\n\u001b[0;32m   3794\u001b[0m         \u001b[38;5;28misinstance\u001b[39m(casted_key, abc\u001b[38;5;241m.\u001b[39mIterable)\n\u001b[0;32m   3795\u001b[0m         \u001b[38;5;129;01mand\u001b[39;00m \u001b[38;5;28many\u001b[39m(\u001b[38;5;28misinstance\u001b[39m(x, \u001b[38;5;28mslice\u001b[39m) \u001b[38;5;28;01mfor\u001b[39;00m x \u001b[38;5;129;01min\u001b[39;00m casted_key)\n\u001b[0;32m   3796\u001b[0m     ):\n\u001b[0;32m   3797\u001b[0m         \u001b[38;5;28;01mraise\u001b[39;00m InvalidIndexError(key)\n\u001b[1;32m-> 3798\u001b[0m     \u001b[38;5;28;01mraise\u001b[39;00m \u001b[38;5;167;01mKeyError\u001b[39;00m(key) \u001b[38;5;28;01mfrom\u001b[39;00m\u001b[38;5;250m \u001b[39m\u001b[38;5;21;01merr\u001b[39;00m\n\u001b[0;32m   3799\u001b[0m \u001b[38;5;28;01mexcept\u001b[39;00m \u001b[38;5;167;01mTypeError\u001b[39;00m:\n\u001b[0;32m   3800\u001b[0m     \u001b[38;5;66;03m# If we have a listlike key, _check_indexing_error will raise\u001b[39;00m\n\u001b[0;32m   3801\u001b[0m     \u001b[38;5;66;03m#  InvalidIndexError. Otherwise we fall through and re-raise\u001b[39;00m\n\u001b[0;32m   3802\u001b[0m     \u001b[38;5;66;03m#  the TypeError.\u001b[39;00m\n\u001b[0;32m   3803\u001b[0m     \u001b[38;5;28mself\u001b[39m\u001b[38;5;241m.\u001b[39m_check_indexing_error(key)\n",
            "\u001b[1;31mKeyError\u001b[0m: 'feature'"
          ]
        }
      ],
      "source": [
        "# 모델 성능 상세 정보\n",
        "print(\"=== AutoML Baseline 모델 요약 ===\")\n",
        "print(f\"사용된 피처 개수: {len(feature_columns)}\")\n",
        "print(f\"최고 성능 모델: {leaderboard.iloc[0]['model']}\")\n",
        "print(f\"최고 성능 점수 (RMSE): {leaderboard.iloc[0]['score_val']:.4f}\")\n",
        "print(f\"예측 범위: {predictions.min():.2f} ~ {predictions.max():.2f}\")\n",
        "print(f\"예측 평균: {predictions.mean():.2f}\")\n",
        "\n",
        "print(\"\\n=== 건물 정보 활용 현황 ===\")\n",
        "building_features = [col for col in feature_columns if any(keyword in col for keyword in \n",
        "                    ['건물', '연면적', '냉방면적'])]\n",
        "print(f\"건물 관련 피처 개수: {len(building_features)}\")\n",
        "print(\"주요 건물 관련 피처:\")\n",
        "for feat in building_features:\n",
        "    print(f\"  - {feat}\")\n",
        "\n",
        "print(\"\\n=== 상위 15개 중요 피처 ===\")\n",
        "for i, (feature, importance) in enumerate(zip(feature_importance.head(15)['feature'], \n",
        "                                            feature_importance.head(15)['importance'])):\n",
        "    # 건물 관련 피처는 * 표시\n",
        "    marker = \" *\" if any(keyword in feature for keyword in \n",
        "                        ['건물', '연면적', '냉방면적']) else \"\"\n",
        "    print(f\"{i+1:2d}. {feature}: {importance:.4f}{marker}\")\n",
        "\n",
        "print(\"\\n* 건물 정보 관련 피처\")\n",
        "\n",
        "print(\"\\n=== 제외된 피처 확인 ===\")\n",
        "excluded_features = ['일조(hr)', '일사(MJ/m2)', '태양광용량(kW)', 'ESS저장용량(kWh)', 'PCS용량(kW)']\n",
        "print(\"제외된 피처들:\")\n",
        "for feat in excluded_features:\n",
        "    print(f\"  - {feat}\")\n",
        "\n",
        "print(\"\\n=== 핵심 피처 분석 ===\")\n",
        "weather_features = [col for col in feature_columns if any(keyword in col for keyword in \n",
        "                   ['기온', '습도', '풍속', 'CDH', 'THI', '바람세기', '습도_온도'])]\n",
        "print(f\"기상 관련 피처 개수: {len(weather_features)}\")\n",
        "print(\"기상 관련 피처:\")\n",
        "for feat in weather_features:\n",
        "    print(f\"  - {feat}\")\n",
        "\n",
        "print(\"\\n=== 간단한 Feature Engineering ===\")\n",
        "print(\"✓ 건물 유형: 카테고리 변수로 활용\")\n",
        "print(\"✓ 시간 피처: 연도, 월, 일, 시간, 요일, 주말여부, 계절, 시간대\")\n",
        "print(\"✓ 기상 피처: 온도, 습도, 풍속, CDH, THI, 기상 상호작용\")\n",
        "print(\"✓ 건물 피처: 연면적, 냉방면적, 냉방면적 비율, 면적당 전력\")\n",
        "print(\"✓ 불필요한 복잡한 상호작용 피처 제거\")\n"
      ]
    },
    {
      "cell_type": "raw",
      "metadata": {
        "vscode": {
          "languageId": "raw"
        }
      },
      "source": [
        "## 9. 전체 요약\n"
      ]
    },
    {
      "cell_type": "code",
      "execution_count": 43,
      "metadata": {},
      "outputs": [
        {
          "name": "stdout",
          "output_type": "stream",
          "text": [
            "🏢 ===== 깔끔한 AutoML Baseline 모델 완료 ===== 🏢\n",
            "\n",
            "📊 데이터 활용 현황:\n",
            "   ✓ train.csv: 전력 소비량 및 기상 데이터\n",
            "   ✓ building_info.csv: 건물 유형 및 면적 정보\n",
            "   ✓ test.csv: 예측 대상 데이터\n",
            "\n",
            "🏗️ 건물 정보 활용 내용:\n",
            "   - 건물 유형: 카테고리 변수로 활용 (호텔, 병원, 학교, 상용, 건물기타)\n",
            "   - 건물 면적: 연면적, 냉방면적, 냉방면적 비율\n",
            "   - 건물 효율성: 면적당 전력 소비 지표\n",
            "\n",
            "❌ 제외된 피처:\n",
            "   - 일조(hr), 일사(MJ/m2)\n",
            "   - 태양광용량(kW), ESS저장용량(kWh), PCS용량(kW)\n",
            "   - 불필요한 복잡한 상호작용 피처들\n",
            "\n",
            "🔧 간단한 Feature Engineering:\n",
            "   - 총 피처 개수: 21\n",
            "   - 건물 관련 피처: 4\n",
            "   - 기상 관련 피처: 7\n",
            "   - 시간 피처: 연도, 월, 일, 시간, 요일, 주말여부, 계절, 시간대\n",
            "\n",
            "🤖 AutoML 설정:\n",
            "   - 라이브러리: AutoGluon\n",
            "   - 시간 제한: 10분\n",
            "   - 품질 설정: medium_quality\n",
            "   - 평가 지표: RMSE\n",
            "\n",
            "📈 결과:\n",
            "   - 최고 성능 모델: WeightedEnsemble_L2\n",
            "   - RMSE 점수: -155.4677\n",
            "   - 예측 범위: -142.26 ~ 25953.91 kWh\n",
            "   - 제출 파일: automl_baseline_submission.csv\n",
            "\n",
            "💡 개선 방향:\n",
            "   - 더 긴 훈련 시간 (time_limit 증가)\n",
            "   - 고품질 설정 (presets='best_quality')\n",
            "   - 추가 피처 엔지니어링 (lag features, rolling statistics)\n",
            "   - 앙상블 모델 활용\n",
            "   - 하이퍼파라미터 튜닝\n",
            "\n",
            "✅ 깔끔하고 효과적인 AutoML Baseline 모델 구축 완료!\n"
          ]
        }
      ],
      "source": [
        "print(\"🏢 ===== 깔끔한 AutoML Baseline 모델 완료 ===== 🏢\")\n",
        "print()\n",
        "print(\"📊 데이터 활용 현황:\")\n",
        "print(\"   ✓ train.csv: 전력 소비량 및 기상 데이터\")\n",
        "print(\"   ✓ building_info.csv: 건물 유형 및 면적 정보\")\n",
        "print(\"   ✓ test.csv: 예측 대상 데이터\")\n",
        "print()\n",
        "print(\"🏗️ 건물 정보 활용 내용:\")\n",
        "print(\"   - 건물 유형: 카테고리 변수로 활용 (호텔, 병원, 학교, 상용, 건물기타)\")\n",
        "print(\"   - 건물 면적: 연면적, 냉방면적, 냉방면적 비율\")\n",
        "print(\"   - 건물 효율성: 면적당 전력 소비 지표\")\n",
        "print()\n",
        "print(\"❌ 제외된 피처:\")\n",
        "print(\"   - 일조(hr), 일사(MJ/m2)\")\n",
        "print(\"   - 태양광용량(kW), ESS저장용량(kWh), PCS용량(kW)\")\n",
        "print(\"   - 불필요한 복잡한 상호작용 피처들\")\n",
        "print()\n",
        "print(\"🔧 간단한 Feature Engineering:\")\n",
        "print(f\"   - 총 피처 개수: {len(feature_columns)}\")\n",
        "print(f\"   - 건물 관련 피처: {len(building_features)}\")\n",
        "print(f\"   - 기상 관련 피처: {len(weather_features)}\")\n",
        "print(\"   - 시간 피처: 연도, 월, 일, 시간, 요일, 주말여부, 계절, 시간대\")\n",
        "print()\n",
        "print(\"🤖 AutoML 설정:\")\n",
        "print(\"   - 라이브러리: AutoGluon\")\n",
        "print(\"   - 시간 제한: 10분\")\n",
        "print(\"   - 품질 설정: medium_quality\")\n",
        "print(\"   - 평가 지표: RMSE\")\n",
        "print()\n",
        "print(\"📈 결과:\")\n",
        "print(f\"   - 최고 성능 모델: {leaderboard.iloc[0]['model']}\")\n",
        "print(f\"   - RMSE 점수: {leaderboard.iloc[0]['score_val']:.4f}\")\n",
        "print(f\"   - 예측 범위: {predictions.min():.2f} ~ {predictions.max():.2f} kWh\")\n",
        "print(f\"   - 제출 파일: automl_baseline_submission.csv\")\n",
        "print()\n",
        "print(\"💡 개선 방향:\")\n",
        "print(\"   - 더 긴 훈련 시간 (time_limit 증가)\")\n",
        "print(\"   - 고품질 설정 (presets='best_quality')\")\n",
        "print(\"   - 추가 피처 엔지니어링 (lag features, rolling statistics)\")\n",
        "print(\"   - 앙상블 모델 활용\")\n",
        "print(\"   - 하이퍼파라미터 튜닝\")\n",
        "print()\n",
        "print(\"✅ 깔끔하고 효과적인 AutoML Baseline 모델 구축 완료!\")\n"
      ]
    },
    {
      "cell_type": "code",
      "execution_count": null,
      "metadata": {},
      "outputs": [],
      "source": []
    }
  ],
  "metadata": {
    "kernelspec": {
      "display_name": "sd2",
      "language": "python",
      "name": "python3"
    },
    "language_info": {
      "codemirror_mode": {
        "name": "ipython",
        "version": 3
      },
      "file_extension": ".py",
      "mimetype": "text/x-python",
      "name": "python",
      "nbconvert_exporter": "python",
      "pygments_lexer": "ipython3",
      "version": "3.10.16"
    }
  },
  "nbformat": 4,
  "nbformat_minor": 2
}
